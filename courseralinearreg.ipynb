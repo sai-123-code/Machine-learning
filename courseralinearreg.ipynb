{
  "nbformat": 4,
  "nbformat_minor": 0,
  "metadata": {
    "colab": {
      "name": "courseralinearreg.ipynb",
      "provenance": [],
      "authorship_tag": "ABX9TyOgnOvLp9Qn6BhiTcRtIWGK",
      "include_colab_link": true
    },
    "kernelspec": {
      "name": "python3",
      "display_name": "Python 3"
    }
  },
  "cells": [
    {
      "cell_type": "markdown",
      "metadata": {
        "id": "view-in-github",
        "colab_type": "text"
      },
      "source": [
        "<a href=\"https://colab.research.google.com/github/sai-123-code/Machine-learning/blob/main/courseralinearreg.ipynb\" target=\"_parent\"><img src=\"https://colab.research.google.com/assets/colab-badge.svg\" alt=\"Open In Colab\"/></a>"
      ]
    },
    {
      "cell_type": "code",
      "metadata": {
        "id": "Z9fWSLWOnE7N",
        "colab": {
          "base_uri": "https://localhost:8080/"
        },
        "outputId": "28119921-3861-4059-cb77-2615be8c2ac3"
      },
      "source": [
        "import numpy as np\n",
        "import matplotlib.pyplot as plt\n",
        "def generate_examples(num=1000):\n",
        "  w=[1.0,-3.0]\n",
        "  b=1.0\n",
        "  w = np.reshape(w,(2,1))\n",
        "  x = np.random.randn(num,2)\n",
        "  y = b + np.dot(x,w)+np.random.randn()\n",
        "  y = np.reshape(y,(num,1))\n",
        "  return x,y\n",
        "x,y = generate_examples()\n",
        "print(x.shape,y.shape)"
      ],
      "execution_count": null,
      "outputs": [
        {
          "output_type": "stream",
          "text": [
            "(1000, 2) (1000, 1)\n"
          ],
          "name": "stdout"
        }
      ]
    },
    {
      "cell_type": "code",
      "metadata": {
        "id": "JyyRpLrtrhqz"
      },
      "source": [
        "class Model:\n",
        "  def __init__(self, num_features):\n",
        "    self.num_features = num_features\n",
        "    self.w=np.random.randn(num_features,1)\n",
        "    self.b=np.random.randn()\n"
      ],
      "execution_count": null,
      "outputs": []
    },
    {
      "cell_type": "code",
      "metadata": {
        "id": "gxat517hvflY",
        "colab": {
          "base_uri": "https://localhost:8080/"
        },
        "outputId": "d034ec5e-3784-4e78-f632-4b2896d6da80"
      },
      "source": [
        "model= Model(2)\n",
        "print(model.w)\n",
        "print(model.b)"
      ],
      "execution_count": null,
      "outputs": [
        {
          "output_type": "stream",
          "text": [
            "[[-0.38083179]\n",
            " [ 0.91433719]]\n",
            "0.015673631592857788\n"
          ],
          "name": "stdout"
        }
      ]
    },
    {
      "cell_type": "code",
      "metadata": {
        "id": "7zliW-WOwTPt",
        "colab": {
          "base_uri": "https://localhost:8080/"
        },
        "outputId": "a90e7c47-2ca8-4a9b-fcd1-5c6be8b7155e"
      },
      "source": [
        "class Model(Model):\n",
        "  def forward_pass(self,x):\n",
        "    y_hat=self.b+np.dot(x,self.w)\n",
        "    return y_hat\n",
        "y_hat=Model(2).forward_pass(x)\n",
        "print(y_hat.shape)"
      ],
      "execution_count": null,
      "outputs": [
        {
          "output_type": "stream",
          "text": [
            "(1000, 1)\n"
          ],
          "name": "stdout"
        }
      ]
    },
    {
      "cell_type": "code",
      "metadata": {
        "id": "9IM6OD1bzRQE",
        "colab": {
          "base_uri": "https://localhost:8080/"
        },
        "outputId": "40a2e24c-3ec8-4622-e403-b36a7bbd3568"
      },
      "source": [
        "class Model(Model):\n",
        "  def compute_loss(self,y_hat,y_true):\n",
        "    return np.sum(np.square(y_hat - y_true))/(2*y_hat.shape[0])\n",
        "model=Model(2) \n",
        "y_hat= model.forward_pass(x)\n",
        "loss= model.compute_loss(y_hat,y)\n",
        "loss"
      ],
      "execution_count": null,
      "outputs": [
        {
          "output_type": "execute_result",
          "data": {
            "text/plain": [
              "12.993313572695408"
            ]
          },
          "metadata": {
            "tags": []
          },
          "execution_count": 4
        }
      ]
    },
    {
      "cell_type": "code",
      "metadata": {
        "id": "VbgqRGBe1q2U"
      },
      "source": [
        "class Model(Model):\n",
        "  def backward_pass(self,x,y_true,y_hat):\n",
        "    m=y_true.shape[0]\n",
        "    db=(1/m)*np.sum(y_hat-y_true)\n",
        "    dw=(1/m)*np.sum(np.dot(np.transpose(y_hat - y_true),x),axis=0)\n",
        "    return dw,db"
      ],
      "execution_count": null,
      "outputs": []
    },
    {
      "cell_type": "code",
      "metadata": {
        "id": "QhMy3ZI_0oTS",
        "colab": {
          "base_uri": "https://localhost:8080/"
        },
        "outputId": "bb499194-61fe-4f1a-963d-f0e00f14ac41"
      },
      "source": [
        "model = Model(2)\n",
        "x,y=generate_examples()\n",
        "y_hat=model.forward_pass(x)\n",
        "dw,db =model.backward_pass(x,y,y_hat)\n",
        "print(dw,db)"
      ],
      "execution_count": null,
      "outputs": [
        {
          "output_type": "stream",
          "text": [
            "[-2.36997113  2.33036036] 0.5253225676730756\n"
          ],
          "name": "stdout"
        }
      ]
    },
    {
      "cell_type": "code",
      "metadata": {
        "id": "rY1B7-qi8306"
      },
      "source": [
        "class Model(Model):\n",
        "  def update_params(self,dw,db,lr):\n",
        "    self.w = self.w-lr*np.reshape(dw,(self.num_features,1))\n",
        "    self.b = self.b- db\n",
        "  "
      ],
      "execution_count": null,
      "outputs": []
    },
    {
      "cell_type": "code",
      "metadata": {
        "id": "VWSBwvGR4eeO"
      },
      "source": [
        "class Model(Model):\n",
        "  def train(self,x_train,y_train,iterations,lr):\n",
        "    losses=[]\n",
        "    for i in range(0,iterations):\n",
        "      y_hat=self.forward_pass(x_train)\n",
        "      loss=self.compute_loss(y_hat,y_train)\n",
        "      dw,db=self.backward_pass(x_train,y_train,y_hat)\n",
        "      self.update_params(dw,db,lr)\n",
        "      losses.append(loss)\n",
        "      if i%int(iterations/10)==0:\n",
        "        print('iter:{},loss:{:.4f}'.format(i,loss))\n",
        "    return losses"
      ],
      "execution_count": null,
      "outputs": []
    },
    {
      "cell_type": "code",
      "metadata": {
        "id": "1VNIOxOi5nN_",
        "colab": {
          "base_uri": "https://localhost:8080/"
        },
        "outputId": "5c2a5538-6ff8-4559-d69f-c49d6aff4989"
      },
      "source": [
        "model=Model(2)\n",
        "x_train,y_train=generate_examples()\n",
        "losses= model.train(x_train,y_train,1000,3e-3)"
      ],
      "execution_count": null,
      "outputs": [
        {
          "output_type": "stream",
          "text": [
            "iter:0,loss:3.0905\n",
            "iter:100,loss:1.6721\n",
            "iter:200,loss:0.9089\n",
            "iter:300,loss:0.4941\n",
            "iter:400,loss:0.2686\n",
            "iter:500,loss:0.1460\n",
            "iter:600,loss:0.0794\n",
            "iter:700,loss:0.0432\n",
            "iter:800,loss:0.0235\n",
            "iter:900,loss:0.0128\n"
          ],
          "name": "stdout"
        }
      ]
    },
    {
      "cell_type": "code",
      "metadata": {
        "id": "7nLzhCCG9S3l",
        "colab": {
          "base_uri": "https://localhost:8080/",
          "height": 283
        },
        "outputId": "c9594ecb-2ff3-4298-f947-7024064306a2"
      },
      "source": [
        "plt.plot(losses)"
      ],
      "execution_count": null,
      "outputs": [
        {
          "output_type": "execute_result",
          "data": {
            "text/plain": [
              "[<matplotlib.lines.Line2D at 0x7f682a4c4a58>]"
            ]
          },
          "metadata": {
            "tags": []
          },
          "execution_count": 11
        },
        {
          "output_type": "display_data",
          "data": {
            "image/png": "[encoded data removed]",
            "text/plain": [
              "<Figure size 432x288 with 1 Axes>"
            ]
          },
          "metadata": {
            "tags": [],
            "needs_background": "light"
          }
        }
      ]
    },
    {
      "cell_type": "code",
      "metadata": {
        "id": "Qs5cb-oV_M4Y",
        "colab": {
          "base_uri": "https://localhost:8080/",
          "height": 388
        },
        "outputId": "0cc78997-689c-45d2-c7b2-1cbf12eb3d77"
      },
      "source": [
        "model_untrained=Model(2)\n",
        "x_test,y_test=generate_examples(500)\n",
        "pred_untrained=model_untrained.forward_pass(x_test)\n",
        "pred_trained=model.forward_pass(x_test)\n",
        "plt.figure(figsize=(6,6))\n",
        "plt.plot(pred_untrained,y_test,'rx',label='untrained')\n",
        "plt.plot(pred_trained,y_test,'b.',label='trained')\n",
        "plt.legend()\n",
        "plt.xlabel('pred')\n",
        "plt.ylabel('truth')\n",
        "plt.show()\n",
        "      "
      ],
      "execution_count": null,
      "outputs": [
        {
          "output_type": "display_data",
          "data": {
            "image/png": "[encoded data removed]",
            "text/plain": [
              "<Figure size 432x432 with 1 Axes>"
            ]
          },
          "metadata": {
            "tags": [],
            "needs_background": "light"
          }
        }
      ]
    }
  ]
}